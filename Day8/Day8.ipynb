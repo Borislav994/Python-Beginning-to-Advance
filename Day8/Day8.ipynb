{
 "cells": [
  {
   "cell_type": "code",
   "execution_count": 6,
   "metadata": {},
   "outputs": [
    {
     "name": "stdout",
     "output_type": "stream",
     "text": [
      "Hello\n",
      "How do you do?\n",
      "Isnt the weather nice today?\n",
      "Hello Borislav\n",
      "How do you do Borislav?\n",
      "Hello Bora\n",
      "Isnt the weather nice today in Sajkas?\n",
      "Hello Dilan\n",
      "Isnt the weather nice today in Mosorin?\n"
     ]
    }
   ],
   "source": [
    "def greet():\n",
    "    print(\"Hello\")\n",
    "    print(\"How do you do?\")\n",
    "    print(\"Isnt the weather nice today?\")\n",
    "greet()\n",
    "\n",
    "def greet_with_name(name):\n",
    "    print(f\"Hello {name}\")\n",
    "    print(f\"How do you do {name}?\")\n",
    "\n",
    "greet_with_name(\"Borislav\")\n",
    "\n",
    "def greet_more(name, location):\n",
    "    print(f\"Hello {name}\")\n",
    "    print(f\"Isnt the weather nice today in {location}?\")\n",
    "\n",
    "greet_more(\"Bora\", \"Sajkas\")\n",
    "greet_more(location=\"Mosorin\", name=\"Dilan\")\n"
   ]
  },
  {
   "cell_type": "code",
   "execution_count": 2,
   "metadata": {},
   "outputs": [
    {
     "name": "stdout",
     "output_type": "stream",
     "text": [
      "You'll need 28 cans of paint.\n"
     ]
    }
   ],
   "source": [
    "import math\n",
    "\n",
    "def paint_calc(height, width, cover):\n",
    "  num_cans = (height * width) / cover\n",
    "  round_up_cans = math.ceil(num_cans)\n",
    "  print(f\"You'll need {round_up_cans} cans of paint.\")\n",
    "\n",
    "paint_calc(17, 8, 5)"
   ]
  },
  {
   "cell_type": "code",
   "execution_count": 3,
   "metadata": {},
   "outputs": [
    {
     "name": "stdout",
     "output_type": "stream",
     "text": [
      "It's not a prime number.\n"
     ]
    }
   ],
   "source": [
    "def prime_checker(number):\n",
    "  is_prime = True\n",
    "  for i in range(2, number):\n",
    "    if number % i == 0:\n",
    "      is_prime = False\n",
    "  if is_prime:\n",
    "    print(\"It's a prime number.\")\n",
    "  else:\n",
    "    print(\"It's not a prime number.\")\n",
    "\n",
    "prime_checker(267)"
   ]
  },
  {
   "cell_type": "code",
   "execution_count": 25,
   "metadata": {},
   "outputs": [
    {
     "name": "stdout",
     "output_type": "stream",
     "text": [
      "           \n",
      " ,adPPYba, ,adPPYYba,  ,adPPYba, ,adPPYba, ,adPPYYba, 8b,dPPYba,  \n",
      "a8\"     \"\" \"\"     `Y8 a8P_____88 I8[    \"\" \"\"     `Y8 88P'   \"Y8  \n",
      "8b         ,adPPPPP88 8PP\"  `\"Y8ba,  ,adPPPPP88 88          \n",
      "\"8a,   ,aa 88,    ,88 \"8b,   ,aa aa    ]8I 88,    ,88 88          \n",
      " `\"Ybbd8\"' `\"8bbdP\"Y8  `\"Ybbd8\"' `\"YbbdP\"' `\"8bbdP\"Y8 88   \n",
      "            88             88                                 \n",
      "           \"\"             88                                 \n",
      "                          88                                 \n",
      " ,adPPYba, 88 8b,dPPYba,  88,dPPYba,   ,adPPYba, 8b,dPPYba,  \n",
      "a8\"     \"\" 88 88P'    \"8a 88P'    \"8a a8P_____88 88P'   \"Y8  \n",
      "8b         88 88       d8 88       88 8PP\" 88          \n",
      "\"8a,   ,aa 88 88b,   ,a8\" 88       88 \"8b,   ,aa 88          \n",
      " `\"Ybbd8\"' 88 88`YbbdP\"'  88       88  `\"Ybbd8\"' 88          \n",
      "              88                                             \n",
      "              88           \n",
      "\n"
     ]
    },
    {
     "name": "stdout",
     "output_type": "stream",
     "text": [
      "The encoded text is erud\n",
      "The decoded text is bora\n",
      "Goodbye!\n"
     ]
    }
   ],
   "source": [
    "alphabet = ['a', 'b', 'c', 'd', 'e', 'f', 'g', 'h', 'i', 'j', 'k', 'l', 'm', 'n', 'o', 'p', 'q', 'r', 's', 't', 'u', 'v', 'w', 'x', 'y', 'z', 'a', 'b', 'c', 'd', 'e', 'f', 'g', 'h', 'i', 'j', 'k', 'l', 'm', 'n', 'o', 'p', 'q', 'r', 's', 't', 'u', 'v', 'w', 'x', 'y', 'z']\n",
    "\n",
    "logo = \"\"\"           \n",
    " ,adPPYba, ,adPPYYba,  ,adPPYba, ,adPPYba, ,adPPYYba, 8b,dPPYba,  \n",
    "a8\"     \"\" \"\"     `Y8 a8P_____88 I8[    \"\" \"\"     `Y8 88P'   \"Y8  \n",
    "8b         ,adPPPPP88 8PP\"\"\"\"\"\"\"  `\"Y8ba,  ,adPPPPP88 88          \n",
    "\"8a,   ,aa 88,    ,88 \"8b,   ,aa aa    ]8I 88,    ,88 88          \n",
    " `\"Ybbd8\"' `\"8bbdP\"Y8  `\"Ybbd8\"' `\"YbbdP\"' `\"8bbdP\"Y8 88   \n",
    "            88             88                                 \n",
    "           \"\"             88                                 \n",
    "                          88                                 \n",
    " ,adPPYba, 88 8b,dPPYba,  88,dPPYba,   ,adPPYba, 8b,dPPYba,  \n",
    "a8\"     \"\" 88 88P'    \"8a 88P'    \"8a a8P_____88 88P'   \"Y8  \n",
    "8b         88 88       d8 88       88 8PP\"\"\"\"\"\"\" 88          \n",
    "\"8a,   ,aa 88 88b,   ,a8\" 88       88 \"8b,   ,aa 88          \n",
    " `\"Ybbd8\"' 88 88`YbbdP\"'  88       88  `\"Ybbd8\"' 88          \n",
    "              88                                             \n",
    "              88           \n",
    "\"\"\"\n",
    "def ceaser(start_text, shift_amount, cipher_direction):\n",
    "    end_text = \"\"\n",
    "\n",
    "    if cipher_direction == \"decode\":\n",
    "        shift_amount *= -1\n",
    "\n",
    "    for char in start_text:\n",
    "        if char in alphabet:  \n",
    "            position = alphabet.index(char)\n",
    "            new_position = position + shift_amount\n",
    "            end_text += alphabet[new_position]\n",
    "        else:\n",
    "            end_text += char\n",
    "    print(f\"The {cipher_direction}d text is {end_text}\")\n",
    "\n",
    "print(logo)\n",
    "\n",
    "shoulde_end = False\n",
    "while shoulde_end:\n",
    "    direction = input(\"Type 'encode' to encrypt, type 'decode' to decrypt:\\n\") \n",
    "    text = input(\"Type your message:\\n\").lower()\n",
    "    shift = int(input(\"Type the shift number:\\n\"))\n",
    "\n",
    "    shift = shift % 26\n",
    "\n",
    "    ceaser(text, shift, direction)\n",
    "    \n",
    "    result = input(\"Type 'yes' if you want to go again. Otherwise type 'no'. \\n \").lower()\n",
    "    if result == \"no\":\n",
    "        shoulde_end = True\n",
    "        print(\"Goodbye!\")\n",
    "\n",
    "# def encrypt(plain_text, shift_amount):\n",
    "#     cipher_text = \"\"\n",
    "#     for letter in plain_text:\n",
    "#         position = alphabet.index(letter)\n",
    "#         new_position = position + shift_amount\n",
    "#         new_letter = alphabet[new_position]\n",
    "#         cipher_text += new_letter\n",
    "#     print(f\"The encoded text is {cipher_text}\")\n",
    "\n",
    "# def decrypt(encoded_text, shift_amount):\n",
    "#     plain_text = \"\"\n",
    "#     for letter in encoded_text:\n",
    "#         position = alphabet.index(letter)\n",
    "#         new_position = position - shift_amount\n",
    "#         plain_text += alphabet[new_position]\n",
    "#     print(f\"The decoded text is {plain_text}\")\n",
    "\n",
    "# if direction == \"encode\":\n",
    "#     encrypt(text, shift)\n",
    "# elif direction == \"decode\":\n",
    "#     decrypt(text, shift)"
   ]
  }
 ],
 "metadata": {
  "kernelspec": {
   "display_name": "Python 3",
   "language": "python",
   "name": "python3"
  },
  "language_info": {
   "codemirror_mode": {
    "name": "ipython",
    "version": 3
   },
   "file_extension": ".py",
   "mimetype": "text/x-python",
   "name": "python",
   "nbconvert_exporter": "python",
   "pygments_lexer": "ipython3",
   "version": "3.10.12"
  }
 },
 "nbformat": 4,
 "nbformat_minor": 2
}
