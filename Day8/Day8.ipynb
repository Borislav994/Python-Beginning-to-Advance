{
 "cells": [
  {
   "cell_type": "code",
   "execution_count": 6,
   "metadata": {},
   "outputs": [
    {
     "name": "stdout",
     "output_type": "stream",
     "text": [
      "Hello\n",
      "How do you do?\n",
      "Isnt the weather nice today?\n",
      "Hello Borislav\n",
      "How do you do Borislav?\n",
      "Hello Bora\n",
      "Isnt the weather nice today in Sajkas?\n",
      "Hello Dilan\n",
      "Isnt the weather nice today in Mosorin?\n"
     ]
    }
   ],
   "source": [
    "def greet():\n",
    "    print(\"Hello\")\n",
    "    print(\"How do you do?\")\n",
    "    print(\"Isnt the weather nice today?\")\n",
    "greet()\n",
    "\n",
    "def greet_with_name(name):\n",
    "    print(f\"Hello {name}\")\n",
    "    print(f\"How do you do {name}?\")\n",
    "\n",
    "greet_with_name(\"Borislav\")\n",
    "\n",
    "def greet_more(name, location):\n",
    "    print(f\"Hello {name}\")\n",
    "    print(f\"Isnt the weather nice today in {location}?\")\n",
    "\n",
    "greet_more(\"Bora\", \"Sajkas\")\n",
    "greet_more(location=\"Mosorin\", name=\"Dilan\")\n"
   ]
  }
 ],
 "metadata": {
  "kernelspec": {
   "display_name": "Python 3",
   "language": "python",
   "name": "python3"
  },
  "language_info": {
   "codemirror_mode": {
    "name": "ipython",
    "version": 3
   },
   "file_extension": ".py",
   "mimetype": "text/x-python",
   "name": "python",
   "nbconvert_exporter": "python",
   "pygments_lexer": "ipython3",
   "version": "3.10.12"
  }
 },
 "nbformat": 4,
 "nbformat_minor": 2
}
