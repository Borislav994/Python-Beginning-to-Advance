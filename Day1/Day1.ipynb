{
 "cells": [
  {
   "cell_type": "code",
   "execution_count": 4,
   "metadata": {},
   "outputs": [
    {
     "name": "stdout",
     "output_type": "stream",
     "text": [
      "Hello World\n",
      "Hello World!\n",
      "Hello World!\n",
      "Hello Borislav!\n"
     ]
    }
   ],
   "source": [
    "# print() function\n",
    "print(\"Hello World\")\n",
    "print(\"Hello World!\\nHello World!\")\n",
    "print(\"Hello\" + \" \" + \"Borislav!\")"
   ]
  },
  {
   "cell_type": "code",
   "execution_count": 7,
   "metadata": {},
   "outputs": [
    {
     "name": "stdout",
     "output_type": "stream",
     "text": [
      "Hello Bora\n",
      "4\n"
     ]
    }
   ],
   "source": [
    "# input() function\n",
    "print(\"Hello \" + input(\"Whats your name?\"))\n",
    "print(len(input(\"Whats your name, let see length?\")))"
   ]
  },
  {
   "cell_type": "code",
   "execution_count": 16,
   "metadata": {},
   "outputs": [
    {
     "name": "stdout",
     "output_type": "stream",
     "text": [
      "Welcome to the band name generator:\n",
      "Sajkaski\n",
      "Bingo\n",
      "Your band name could be Sajkaski Bingo\n"
     ]
    }
   ],
   "source": [
    "# Project Band name gereator:\n",
    "print(\"Welcome to the band name generator:\")\n",
    "city = input(\"Witch are the city where you grow on in?\")\n",
    "print(city)\n",
    "pet_name = input(\"Whats your pet name?\")\n",
    "print(pet_name)\n",
    "print(\"Your band name could be \" + city + \" \" + pet_name)"
   ]
  }
 ],
 "metadata": {
  "kernelspec": {
   "display_name": "Python 3",
   "language": "python",
   "name": "python3"
  },
  "language_info": {
   "codemirror_mode": {
    "name": "ipython",
    "version": 3
   },
   "file_extension": ".py",
   "mimetype": "text/x-python",
   "name": "python",
   "nbconvert_exporter": "python",
   "pygments_lexer": "ipython3",
   "version": "3.10.12"
  }
 },
 "nbformat": 4,
 "nbformat_minor": 2
}
