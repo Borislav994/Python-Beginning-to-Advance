{
 "cells": [
  {
   "cell_type": "code",
   "execution_count": 7,
   "metadata": {},
   "outputs": [
    {
     "name": "stdout",
     "output_type": "stream",
     "text": [
      "An error in a program that prevents the program from running as expected.\n",
      "Bug\n",
      "Kada bube udju u kod\n",
      "Function\n",
      "A piece of code that you can easily call over and over again.\n",
      "Loop\n",
      "The action of doing something over and over again.\n",
      "{'Bug': 'Kada bube udju u kod', 'Function': 'A piece of code that you can easily call over and over again.', 'Loop': 'The action of doing something over and over again.'}\n"
     ]
    }
   ],
   "source": [
    "programming_dictionary = {\n",
    "    \"Bug\": \"An error in a program that prevents the program from running as expected.\", \n",
    "    \"Function\": \"A piece of code that you can easily call over and over again.\",\n",
    "}\n",
    "\n",
    "# retrieving items from dictionary\n",
    "print(programming_dictionary[\"Bug\"])\n",
    "\n",
    "# adding new items\n",
    "programming_dictionary[\"Loop\"] = \"The action of doing something over and over again.\"\n",
    "\n",
    "# empty\n",
    "empty_dictionary = {}\n",
    "\n",
    "# edit item in a dictionary\n",
    "programming_dictionary[\"Bug\"] = \"Kada bube udju u kod\"\n",
    "\n",
    "# loop\n",
    "for key in programming_dictionary:\n",
    "    print(key)\n",
    "    print(programming_dictionary[key])\n",
    "\n",
    "print(programming_dictionary)"
   ]
  },
  {
   "cell_type": "code",
   "execution_count": 8,
   "metadata": {},
   "outputs": [
    {
     "name": "stdout",
     "output_type": "stream",
     "text": [
      "{'Harry': 'Exceeds Expectations', 'Ron': 'Acceptable', 'Hermione': 'Outstanding', 'Draco': 'Acceptable', 'Neville': 'Fail'}\n"
     ]
    }
   ],
   "source": [
    "student_scores = {\n",
    "  \"Harry\": 81,\n",
    "  \"Ron\": 78,\n",
    "  \"Hermione\": 99, \n",
    "  \"Draco\": 74,\n",
    "  \"Neville\": 62,\n",
    "}\n",
    "\n",
    "student_grades = {}\n",
    "\n",
    "for student in student_scores:\n",
    "  score = student_scores[student]\n",
    "  if score > 90:\n",
    "    student_grades[student] = \"Outstanding\"\n",
    "  elif score > 80:\n",
    "    student_grades[student] = \"Exceeds Expectations\"\n",
    "  elif score > 70:\n",
    "    student_grades[student] = \"Acceptable\"\n",
    "  else:\n",
    "    student_grades[student] = \"Fail\"\n",
    "\n",
    "print(student_grades)"
   ]
  },
  {
   "cell_type": "code",
   "execution_count": null,
   "metadata": {},
   "outputs": [],
   "source": [
    "# nesting \n",
    "\n",
    "capitals = {\n",
    "    \"France\" : \"Paris\",\n",
    "    \"Germany\" : \"Berlin\"\n",
    "}\n",
    "\n",
    "travel_log = {\n",
    "    \"France\" : [\"Paris\", \"Lille\", \"Dijon\"],\n",
    "    \"Germany\" : [\"Berlin\", \"Hamburg\", \"Keln\"]\n",
    "}\n",
    "\n",
    "# nesting Dictionary in a dictionary\n",
    "travel_log = {\n",
    "    \"France\" : {\"cities_visited\" : [\"Paris\", \"Lille\", \"Dijon\"],\n",
    "    \"Total_visits\" : 12},\n",
    "    \"Germany\" : {\"cities_visited\" : [\"Berlin\", \"Hamburg\", \"Keln\"],\n",
    "    \"Total_visits\" : 12},\n",
    "}\n",
    "\n",
    "# nasting dictionary in a list\n",
    "travel_log = [\n",
    "    {\n",
    "      \"country\" : \"France\",\n",
    "      \"cities_visited\" : [\"Paris\", \"Lille\", \"Dijon\"], \n",
    "      \"Total_visits\" : 12\n",
    "    },\n",
    "    {\n",
    "     \"country\" : \"Germany\", \n",
    "     \"cities_visited\" : [\"Berlin\", \"Hamburg\", \"Keln\"], \n",
    "     \"Total_visits\" : 5\n",
    "    }\n",
    "]"
   ]
  }
 ],
 "metadata": {
  "kernelspec": {
   "display_name": "Python 3",
   "language": "python",
   "name": "python3"
  },
  "language_info": {
   "codemirror_mode": {
    "name": "ipython",
    "version": 3
   },
   "file_extension": ".py",
   "mimetype": "text/x-python",
   "name": "python",
   "nbconvert_exporter": "python",
   "pygments_lexer": "ipython3",
   "version": "3.10.12"
  }
 },
 "nbformat": 4,
 "nbformat_minor": 2
}
