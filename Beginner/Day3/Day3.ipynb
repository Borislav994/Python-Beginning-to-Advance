{
 "cells": [
  {
   "cell_type": "code",
   "execution_count": 5,
   "metadata": {},
   "outputs": [
    {
     "name": "stdout",
     "output_type": "stream",
     "text": [
      "This is an odd number.\n"
     ]
    }
   ],
   "source": [
    "number = int(input(\"Type number for check: \"))\n",
    "if number % 2 == 0:\n",
    "  print(\"This is an even number.\")\n",
    "else:\n",
    "  print(\"This is an odd number.\")"
   ]
  },
  {
   "cell_type": "code",
   "execution_count": 9,
   "metadata": {},
   "outputs": [
    {
     "name": "stdout",
     "output_type": "stream",
     "text": [
      "Leap year\n"
     ]
    }
   ],
   "source": [
    "# leap or not year check\n",
    "year = int(input(\"Input a year to check:\"))\n",
    "if year % 4 != 0:\n",
    " print(\"Not leap year\")\n",
    "elif year % 100 != 0:\n",
    "    print(\"Leap year\")\n",
    "elif year % 400 == 0:\n",
    "    print(\"Leap year\")\n",
    "else:\n",
    "    print(\"Not leap year\")"
   ]
  },
  {
   "cell_type": "code",
   "execution_count": 12,
   "metadata": {},
   "outputs": [
    {
     "name": "stdout",
     "output_type": "stream",
     "text": [
      "Your BMI is 22.857142857142858, you have a normal weight.\n"
     ]
    }
   ],
   "source": [
    "# BMI calculator\n",
    "height = float(input())\n",
    "weight = int(input())\n",
    "\n",
    "bmi = weight / (height ** 2)\n",
    "if bmi < 18.5:\n",
    "  print(f\"Your BMI is {bmi}, you are underweight.\")\n",
    "elif bmi < 25:\n",
    "  print(f\"Your BMI is {bmi}, you have a normal weight.\")\n",
    "elif bmi < 30:\n",
    "  print(f\"Your BMI is {bmi}, you are slightly overweight.\")\n",
    "elif bmi < 35:\n",
    " print(f\"Your BMI is {bmi}, you are obese.\")\n",
    "else:\n",
    "  print(f\"Your BMI is {bmi}, you are clinically obese.\")"
   ]
  },
  {
   "cell_type": "code",
   "execution_count": 26,
   "metadata": {},
   "outputs": [
    {
     "name": "stdout",
     "output_type": "stream",
     "text": [
      "Welcome to the rollercoaster!\n",
      "You can ride the rollercoaster.\n",
      "For this price is $0 because you in crisis period :)\n",
      "Your final bill is $0\n"
     ]
    }
   ],
   "source": [
    "print(\"Welcome to the rollercoaster!\")\n",
    "height = int(input(\"What is your height in cm? \"))\n",
    "bill = 0\n",
    "\n",
    "if height >= 120:\n",
    "    print(\"You can ride the rollercoaster.\")\n",
    "    age = int(input(\"What is your age? \"))\n",
    "    if age < 12:\n",
    "        bill = 5\n",
    "        print(f\"Child ticket are ${bill}\")\n",
    "    elif age <= 18:\n",
    "        bill = 7\n",
    "        print(f\"Your ticket are ${bill}\")\n",
    "    elif age >= 45 and age <= 55:\n",
    "        bill = 0\n",
    "        print(f\"For this price is ${bill} because you in crisis period :)\")\n",
    "    else:\n",
    "        bill = 12\n",
    "        print(f\"Adult ticket are ${bill}\")\n",
    "    \n",
    "    photo = input(\"Do you want a photo taken? Y or N\")\n",
    "    if photo == \"Y\":\n",
    "        bill += 3\n",
    "    print(f\"Your final bill is ${bill}\")\n",
    "\n",
    "else:\n",
    "    print(\"Sorry, you jave to grow taller before you can ride.\")"
   ]
  },
  {
   "cell_type": "code",
   "execution_count": 23,
   "metadata": {},
   "outputs": [
    {
     "name": "stdout",
     "output_type": "stream",
     "text": [
      "Thank you for choosing Python Pizza Deliveries!\n",
      "Your final bill is: $28.\n"
     ]
    }
   ],
   "source": [
    "# Pizza service\n",
    "print(\"Thank you for choosing Python Pizza Deliveries!\")\n",
    "size = input(\"What size pizza do you want? S, M, or L\")\n",
    "add_pepperoni = input(\"Do you want pepperoni? Y or N\")\n",
    "extra_cheese = input(\"Do you want extra cheese? Y or N\") \n",
    "\n",
    "price = 0\n",
    "if size == \"S\":\n",
    "  price = 15\n",
    "  if add_pepperoni == \"Y\":\n",
    "    price += 2\n",
    "  if extra_cheese == \"Y\":\n",
    "    price += 1\n",
    "  print(f\"Your final bill is: ${price}.\")\n",
    "elif size == \"M\":\n",
    "  price = 20\n",
    "  if add_pepperoni == \"Y\":\n",
    "    price += 3\n",
    "  if extra_cheese == \"Y\":\n",
    "    price += 1\n",
    "  print(f\"Your final bill is: ${price}.\")\n",
    "elif size == \"L\":\n",
    "  price = 25\n",
    "  if add_pepperoni == \"Y\":\n",
    "    price += 3\n",
    "  if extra_cheese == \"Y\":\n",
    "    price += 1\n",
    "  print(f\"Your final bill is: ${price}.\") "
   ]
  },
  {
   "cell_type": "code",
   "execution_count": 29,
   "metadata": {},
   "outputs": [
    {
     "name": "stdout",
     "output_type": "stream",
     "text": [
      "The Love Calculator is calculating your score...\n",
      "Your score is 16.\n"
     ]
    }
   ],
   "source": [
    "# Love Calculator\n",
    "print(\"The Love Calculator is calculating your score...\")\n",
    "name1 = input(\"What is your name?\")\n",
    "name2 = input(\"What is their name?\")\n",
    "\n",
    "\n",
    "combined_names = name1.lower() + name2.lower()\n",
    "\n",
    "true_count = combined_names.count('t') + combined_names.count('r') + combined_names.count('u') + combined_names.count('e')\n",
    "love_count = combined_names.count('l') + combined_names.count('o') + combined_names.count('v') + combined_names.count('e')\n",
    "\n",
    "love_score = int(str(true_count) + str(love_count))\n",
    "\n",
    "if love_score < 10 or love_score > 90:\n",
    "  print(f\"Your score is {love_score}, you go together like coke and mentos.\")\n",
    "elif 40 <= love_score <= 50:\n",
    "  print(f\"Your score is {love_score}, you are alright together.\")\n",
    "else:\n",
    "  print(f\"Your score is {love_score}.\")\n"
   ]
  },
  {
   "cell_type": "code",
   "execution_count": 47,
   "metadata": {},
   "outputs": [
    {
     "name": "stdout",
     "output_type": "stream",
     "text": [
      "\n",
      "                                   $\"\"$o\n",
      "                                  $\"  $$\n",
      "                                   $$$$ \n",
      "                                   o \"$o\n",
      "                                  o\"  \"$\n",
      "             oo\"$$$\"  oo$\"$ooo   o$    \"$    ooo\"$oo  $$$\"o\n",
      "o o o o    oo\"  o\"      \"o    $$o$\"     o o$\"\"  o$      \"$  \"oo   o o o o o\n",
      "\"$o   \"\"$$$\"   $$         $      \"   o   \"\"    o\"         $   \"o$$\"    \"$o\n",
      "  \"\"o       o  $          $\"       $$$$$       o          $  ooo     o\"\"\n",
      "     \"o   $$$$o $o       o$        $$$$$\"       $o        \" $$$$   o\"\n",
      "      \"\"o $$$$o  oo o  o$\"         $$$$$\"        \"o o o o\"  \"$$$  $\n",
      "        \"\" \"$\"     \"\"\"\"\"            \"\"$\"            \"\"\"      \"\"\" \"\n",
      "         \"oooooooooooooooooooooooooooooooooooooooooooooooooooooo$\n",
      "          \"$$$$\"$$$$\" $$$$$$$\"$$$$$$ \" \"$$$$$\"$$$$$$\"  $$$\"\"$$$$\n",
      "           $$$oo$$$$   $$$$$$o$$$$$$o\" $$$$$$$$$$$$$$ o$$$$o$$$\"\n",
      "           $\"\"\"\"\"\"\"\"\"\"\"\"\"\"\"\"\"\"\"\"\"\"\"\"\"\"\"\"\"\"\"\"\"\"\"\"\"\"\"\"\"\"\"\"\"\"\"\"\"\"\"$\n",
      "           $\"                                                 \"$\n",
      "           $\"$\"$\"$\"$\"$\"$\"$\"$\"$\"$\"$\"$\"$\"$\"$\"$\"$\"$\"$\"$\"$\"$\"$\"$\"$\"$\"\n",
      "           \n",
      "                            TREASURE ISLAND\n",
      "\n",
      "Welcome to Treasure Island.\n",
      "Your mission is to find the treasure.\n",
      "Wrong answer. Game Over!\n"
     ]
    }
   ],
   "source": [
    "triangle_art = '''\n",
    "                                   $\"\"$o\n",
    "                                  $\"  $$\n",
    "                                   $$$$ \n",
    "                                   o \"$o\n",
    "                                  o\"  \"$\n",
    "             oo\"$$$\"  oo$\"$ooo   o$    \"$    ooo\"$oo  $$$\"o\n",
    "o o o o    oo\"  o\"      \"o    $$o$\"     o o$\"\"  o$      \"$  \"oo   o o o o o\n",
    "\"$o   \"\"$$$\"   $$         $      \"   o   \"\"    o\"         $   \"o$$\"    \"$o\n",
    "  \"\"o       o  $          $\"       $$$$$       o          $  ooo     o\"\"\n",
    "     \"o   $$$$o $o       o$        $$$$$\"       $o        \" $$$$   o\"\n",
    "      \"\"o $$$$o  oo o  o$\"         $$$$$\"        \"o o o o\"  \"$$$  $\n",
    "        \"\" \"$\"     \"\"\"\"\"            \"\"$\"            \"\"\"      \"\"\" \"\n",
    "         \"oooooooooooooooooooooooooooooooooooooooooooooooooooooo$\n",
    "          \"$$$$\"$$$$\" $$$$$$$\"$$$$$$ \" \"$$$$$\"$$$$$$\"  $$$\"\"$$$$\n",
    "           $$$oo$$$$   $$$$$$o$$$$$$o\" $$$$$$$$$$$$$$ o$$$$o$$$\"\n",
    "           $\"\"\"\"\"\"\"\"\"\"\"\"\"\"\"\"\"\"\"\"\"\"\"\"\"\"\"\"\"\"\"\"\"\"\"\"\"\"\"\"\"\"\"\"\"\"\"\"\"\"\"$\n",
    "           $\"                                                 \"$\n",
    "           $\"$\"$\"$\"$\"$\"$\"$\"$\"$\"$\"$\"$\"$\"$\"$\"$\"$\"$\"$\"$\"$\"$\"$\"$\"$\"$\"\n",
    "           \n",
    "                            TREASURE ISLAND\n",
    "'''\n",
    "\n",
    "print(triangle_art)\n",
    "print(\"Welcome to Treasure Island.\")\n",
    "print(\"Your mission is to find the treasure.\")\n",
    "crossroad = input(\"You are at a crossraod. Where you want to go? Type 'left' or 'right'\").lower()\n",
    "if crossroad == \"right\":\n",
    "  print(\"You fell into a hole, Game Over!\")\n",
    "elif crossroad == \"left\":\n",
    "  lake = input(\"You come to a lake. There is an island in the middle of the lake. Type 'wait' to wait a boat or type 'swim' to swim across\").lower()\n",
    "  if lake == \"swim\":\n",
    "    print(\"You got attacked by an angry trout, Game Over!\")\n",
    "  elif lake == \"wait\":\n",
    "    colour = input(\"You arrive at the island unharmed. There is a house with 3 doors. One red. one yellow and one blue. With colour do you choose?\").lower()\n",
    "    if colour == \"red\":\n",
    "      print(\"Its a room full of fire, Game Over!\")\n",
    "    elif colour == \"blue\":\n",
    "      print(\"You enter a room of beasts, Game Over!\")\n",
    "    elif colour == \"yellow\":\n",
    "      print(\"You find a treasure. Good job!!!\")\n",
    "    else:\n",
    "      print(\"Wrong answer. Game Over!\")\n",
    "  else:\n",
    "      print(\"Wrong answer. Game Over!\")\n",
    "else:\n",
    "      print(\"Wrong answer. Game Over!\")"
   ]
  }
 ],
 "metadata": {
  "kernelspec": {
   "display_name": "Python 3",
   "language": "python",
   "name": "python3"
  },
  "language_info": {
   "codemirror_mode": {
    "name": "ipython",
    "version": 3
   },
   "file_extension": ".py",
   "mimetype": "text/x-python",
   "name": "python",
   "nbconvert_exporter": "python",
   "pygments_lexer": "ipython3",
   "version": "3.10.12"
  }
 },
 "nbformat": 4,
 "nbformat_minor": 2
}
