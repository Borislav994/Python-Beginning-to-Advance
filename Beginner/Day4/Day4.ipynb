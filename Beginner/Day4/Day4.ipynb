{
 "cells": [
  {
   "cell_type": "code",
   "execution_count": null,
   "metadata": {},
   "outputs": [],
   "source": [
    "import random\n",
    "\n",
    "number = random.randint(0,1)\n",
    "\n",
    "if number == 1:\n",
    "  print(\"Heads\")\n",
    "elif number == 0:\n",
    "  print(\"Tails\")"
   ]
  },
  {
   "cell_type": "code",
   "execution_count": 4,
   "metadata": {},
   "outputs": [
    {
     "name": "stdout",
     "output_type": "stream",
     "text": [
      "Angela\n"
     ]
    }
   ],
   "source": [
    "names = [\"Angela\", \"Ben\", \"Janny\", \"Michael\", \"Chloe\"]\n",
    "\n",
    "import random\n",
    "\n",
    "num_items = len(names)\n",
    " \n",
    "random_choice = random.randint(0, num_items - 1)\n",
    "\n",
    "print(names[random_choice])"
   ]
  },
  {
   "cell_type": "code",
   "execution_count": 5,
   "metadata": {},
   "outputs": [
    {
     "name": "stdout",
     "output_type": "stream",
     "text": [
      "Hiding your treasure! X marks the spot.\n",
      "['⬜️', 'X', '️⬜️']\n",
      "['⬜️', '⬜️', '️⬜️']\n",
      "['⬜️️', '⬜️️', '⬜️️']\n"
     ]
    }
   ],
   "source": [
    "line1 = [\"⬜️\",\"️⬜️\",\"️⬜️\"]\n",
    "line2 = [\"⬜️\",\"⬜️\",\"️⬜️\"]\n",
    "line3 = [\"⬜️️\",\"⬜️️\",\"⬜️️\"]\n",
    "map = [line1, line2, line3]\n",
    "print(\"Hiding your treasure! X marks the spot.\")\n",
    "position = input(\"Where do you want to put the treasure?\") \n",
    "letter = position[0].lower()\n",
    "abc = [\"a\", \"b\", \"c\"]\n",
    "letter_index = abc.index(letter)\n",
    "number_index = int(position[1]) - 1\n",
    "map[number_index][letter_index] = \"X\"\n",
    "\n",
    "print(f\"{line1}\\n{line2}\\n{line3}\")"
   ]
  },
  {
   "cell_type": "code",
   "execution_count": 6,
   "metadata": {},
   "outputs": [
    {
     "name": "stdout",
     "output_type": "stream",
     "text": [
      "total height = 475\n",
      "number of students = 3\n",
      "average height = 158\n"
     ]
    }
   ],
   "source": [
    "student_heights = [151, 145, 179]\n",
    "for n in range(0, len(student_heights)):\n",
    "  student_heights[n] = int(student_heights[n])\n",
    "total_height = 0\n",
    "for height in student_heights:\n",
    "  total_height += height\n",
    "print(f\"total height = {total_height}\")\n",
    "\n",
    "number_of_students = 0\n",
    "for student in student_heights:\n",
    "  number_of_students += 1\n",
    "print(f\"number of students = {number_of_students}\")\n",
    "\n",
    "average_height = round(total_height / number_of_students)\n",
    "print(f\"average height = {average_height}\")"
   ]
  },
  {
   "cell_type": "code",
   "execution_count": 7,
   "metadata": {},
   "outputs": [
    {
     "name": "stdout",
     "output_type": "stream",
     "text": [
      "\n",
      "    _______\n",
      "---'   ____)\n",
      "      (_____)\n",
      "      (_____)\n",
      "      (____)\n",
      "---.__(___)\n",
      "\n",
      "Computer chose:\n",
      "\n",
      "    _______\n",
      "---'   ____)____\n",
      "          ______)\n",
      "          _______)\n",
      "         _______)\n",
      "---.__________)\n",
      "\n",
      "You lose\n"
     ]
    }
   ],
   "source": [
    "import random\n",
    "\n",
    "rock = '''\n",
    "    _______\n",
    "---'   ____)\n",
    "      (_____)\n",
    "      (_____)\n",
    "      (____)\n",
    "---.__(___)\n",
    "'''\n",
    "\n",
    "paper = '''\n",
    "    _______\n",
    "---'   ____)____\n",
    "          ______)\n",
    "          _______)\n",
    "         _______)\n",
    "---.__________)\n",
    "'''\n",
    "\n",
    "scissors = '''\n",
    "    _______\n",
    "---'   ____)____\n",
    "          ______)\n",
    "       __________)\n",
    "      (____)\n",
    "---.__(___)\n",
    "'''\n",
    "\n",
    "game_images = [rock, paper, scissors]\n",
    "\n",
    "user_choice = int(input(\"What do you choose? Type 0 for Rock, 1 for Paper or 2 for Scissors.\\n\"))\n",
    "print(game_images[user_choice])\n",
    "\n",
    "computer_choice = random.randint(0, 2)\n",
    "print(\"Computer chose:\")\n",
    "print(game_images[computer_choice])\n",
    "\n",
    "if user_choice >= 3 or user_choice < 0: \n",
    "  print(\"You typed an invalid number, you lose!\") \n",
    "elif user_choice == 0 and computer_choice == 2:\n",
    "  print(\"You win!\")\n",
    "elif computer_choice == 0 and user_choice == 2:\n",
    "  print(\"You lose\")\n",
    "elif computer_choice > user_choice:\n",
    "  print(\"You lose\")\n",
    "elif user_choice > computer_choice:\n",
    "  print(\"You win!\")\n",
    "elif computer_choice == user_choice:\n",
    "  print(\"It's a draw\")"
   ]
  }
 ],
 "metadata": {
  "kernelspec": {
   "display_name": "Python 3",
   "language": "python",
   "name": "python3"
  },
  "language_info": {
   "codemirror_mode": {
    "name": "ipython",
    "version": 3
   },
   "file_extension": ".py",
   "mimetype": "text/x-python",
   "name": "python",
   "nbconvert_exporter": "python",
   "pygments_lexer": "ipython3",
   "version": "3.10.12"
  }
 },
 "nbformat": 4,
 "nbformat_minor": 2
}
