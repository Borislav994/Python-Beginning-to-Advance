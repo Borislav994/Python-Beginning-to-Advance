{
 "cells": [
  {
   "cell_type": "code",
   "execution_count": 9,
   "metadata": {},
   "outputs": [
    {
     "name": "stdout",
     "output_type": "stream",
     "text": [
      "<class 'int'>\n",
      "Your name has 4 characters\n"
     ]
    }
   ],
   "source": [
    "# len(4) is error of type int has no len()\n",
    "# function type() check the type of data that its in ()\n",
    "my_char = len(input(\"What is your name?\"))\n",
    "print(type(my_char))\n",
    "\n",
    "# cast typing\n",
    "print(\"Your name has \" + str(my_char) + \" characters\")"
   ]
  },
  {
   "cell_type": "code",
   "execution_count": 10,
   "metadata": {},
   "outputs": [
    {
     "name": "stdout",
     "output_type": "stream",
     "text": [
      "3\n"
     ]
    }
   ],
   "source": [
    "# cast conversion\n",
    "two_digit_number = input()\n",
    "\n",
    "num1 = two_digit_number[0]\n",
    "num2 = two_digit_number[1]\n",
    "\n",
    "print(int(num1) + int(num2))"
   ]
  },
  {
   "cell_type": "code",
   "execution_count": 2,
   "metadata": {},
   "outputs": [
    {
     "name": "stdout",
     "output_type": "stream",
     "text": [
      "33\n"
     ]
    }
   ],
   "source": [
    "# matematic\n",
    "height = input()\n",
    "weight = input()\n",
    "bmi = int(weight) / (float(height)**2)\n",
    "print(int(bmi))"
   ]
  },
  {
   "cell_type": "code",
   "execution_count": 5,
   "metadata": {},
   "outputs": [
    {
     "name": "stdout",
     "output_type": "stream",
     "text": [
      "You have 3172 weeks left.\n"
     ]
    }
   ],
   "source": [
    "# kalkulator koliko sedmica nam je ostalo u zivotu ako cemo ziveti do 90 godine\n",
    "age = int(input())\n",
    "broj_sedmica_zivota= age * 52\n",
    "ostale_sedmice = (90 * 52) - broj_sedmica_zivota\n",
    "print(f\"You have {ostale_sedmice} weeks left.\")\n",
    "\n",
    "#years = 90 - int(age)\n",
    "#weeks = years * 52"
   ]
  },
  {
   "cell_type": "code",
   "execution_count": 13,
   "metadata": {},
   "outputs": [
    {
     "name": "stdout",
     "output_type": "stream",
     "text": [
      "Welcomte to the tip calculator.\n",
      "Each person should pay: $35.29\n"
     ]
    }
   ],
   "source": [
    "# tip calculator\n",
    "print(\"Welcomte to the tip calculator.\")\n",
    "total_bill = float(input(\"What was the total bill? $ \"))\n",
    "percentage_tip = int(input(\"What percentage tip would you like to give? 10, 12, or 15?\"))\n",
    "people_num = int(input(\"How many people to split the bill?\"))\n",
    "pay = round((total_bill / people_num) * (percentage_tip / 100 + 1),2)\n",
    "print(f\"Each person should pay: ${pay}\")"
   ]
  }
 ],
 "metadata": {
  "kernelspec": {
   "display_name": "Python 3",
   "language": "python",
   "name": "python3"
  },
  "language_info": {
   "codemirror_mode": {
    "name": "ipython",
    "version": 3
   },
   "file_extension": ".py",
   "mimetype": "text/x-python",
   "name": "python",
   "nbconvert_exporter": "python",
   "pygments_lexer": "ipython3",
   "version": "3.10.12"
  }
 },
 "nbformat": 4,
 "nbformat_minor": 2
}
