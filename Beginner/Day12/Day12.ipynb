{
 "cells": [
  {
   "cell_type": "code",
   "execution_count": 6,
   "metadata": {},
   "outputs": [
    {
     "name": "stdout",
     "output_type": "stream",
     "text": [
      "enemies inside function: 1\n",
      "enemies otside a function: 2\n"
     ]
    }
   ],
   "source": [
    "########### SCOPE ############\n",
    "\n",
    "enemies = 1\n",
    "\n",
    "def increase_enemies():\n",
    "    # global enemies -> ovako se lokalna varijabla pravi globalnom, ali nije preporucljivo. Nije preporucljivo ni menjati globalne varijable u funkciji valjda\n",
    "    print(f\"enemies inside function: {enemies}\")\n",
    "    return enemies + 1\n",
    "\n",
    "enemies = increase_enemies()\n",
    "\n",
    "print(f\"enemies otside a function: {enemies}\")\n",
    "\n",
    "potion_intelect = 3 # this is gloabal variable\n",
    "\n",
    "# local scope\n",
    "def drin_potion():\n",
    "    potion_strenght = 2 # this is local variable\n",
    "    print(potion_strenght)\n",
    "\n",
    "\n",
    "# There is not a block scope!!! Mozemo pristupiti bilo kojoj varijabli koja nije u funciji. Misli se na scope od if petlje ili for i tako..."
   ]
  },
  {
   "cell_type": "code",
   "execution_count": 13,
   "metadata": {},
   "outputs": [
    {
     "name": "stdout",
     "output_type": "stream",
     "text": [
      "\n",
      "  / _ \\_   _  ___  ___ ___  /__   \\ |__   ___    /\\ \\ \\_   _ _ __ ___ | |__   ___ _ __ \n",
      " / /_\\/ | | |/ _ \\/ __/ __|   / /\\/ '_ \\ / _ \\  /  \\/ / | | | '_ ` _ \\| '_ \\ / _ \\ '__|\n",
      "/ /_\\| |_| |  __/\\__ \\__ \\  / /  | | | |  __/ / /\\  /| |_| | | | | | | |_) |  __/ |   \n",
      "\\____/ \\__,_|\\___||___/___/  \\/   |_| |_|\\___| \\_\\ \\/  \\__,_|_| |_| |_|_.__/ \\___|_|  \n",
      "\n",
      "Welcome to the Number Guessing Game!\n",
      "I am thinking of a number between 1 and 100.\n",
      "You have 10 attempts remaining to guess the number.\n",
      "Too high.\n",
      "Guess again.\n",
      "You have 9 attempts remaining to guess the number.\n",
      "Too high.\n",
      "Guess again.\n",
      "You have 8 attempts remaining to guess the number.\n",
      "Too high.\n",
      "Guess again.\n",
      "You have 7 attempts remaining to guess the number.\n",
      "Too low.\n",
      "Guess again.\n",
      "You have 6 attempts remaining to guess the number.\n",
      "Too low.\n",
      "Guess again.\n",
      "You have 5 attempts remaining to guess the number.\n",
      "Too low.\n",
      "Guess again.\n",
      "You have 4 attempts remaining to guess the number.\n",
      "Too high.\n",
      "Guess again.\n",
      "You have 3 attempts remaining to guess the number.\n",
      "You got it! The answer is 24\n"
     ]
    }
   ],
   "source": [
    "# Number Guessing Game\n",
    "\n",
    "from random import randint\n",
    "\n",
    "logo = \"\"\"\n",
    "  / _ \\_   _  ___  ___ ___  /__   \\ |__   ___    /\\ \\ \\_   _ _ __ ___ | |__   ___ _ __ \n",
    " / /_\\/ | | |/ _ \\/ __/ __|   / /\\/ '_ \\ / _ \\  /  \\/ / | | | '_ ` _ \\| '_ \\ / _ \\ '__|\n",
    "/ /_\\\\| |_| |  __/\\__ \\__ \\  / /  | | | |  __/ / /\\  /| |_| | | | | | | |_) |  __/ |   \n",
    "\\____/ \\__,_|\\___||___/___/  \\/   |_| |_|\\___| \\_\\ \\/  \\__,_|_| |_| |_|_.__/ \\___|_|  \n",
    "\"\"\"\n",
    "\n",
    "EASY_LEVEL_TURNS = 10\n",
    "HARD_LEVEL_TURNS = 5\n",
    "\n",
    "\n",
    "\n",
    "def check_answer(guess, answer, turns):\n",
    "    \"\"\"checks answer against guess. Returns the number of turns remaining\"\"\"\n",
    "    if guess > answer:\n",
    "        print(\"Too high.\")\n",
    "        return turns - 1\n",
    "    elif guess < answer:\n",
    "        print(\"Too low.\")\n",
    "        return turns - 1\n",
    "    else:\n",
    "        print(f\"You got it! The answer is {answer}\")\n",
    "\n",
    "def set_difficulty():\n",
    "    level = input(\"Choose a difficulty. Type 'easy' or 'hard': \")\n",
    "    if level == \"easy\":\n",
    "        return EASY_LEVEL_TURNS\n",
    "    else:\n",
    "        return HARD_LEVEL_TURNS\n",
    "    \n",
    "def game():\n",
    "    print(logo)\n",
    "    print(\"Welcome to the Number Guessing Game!\")\n",
    "    print(\"I am thinking of a number between 1 and 100.\")\n",
    "    answer = randint(1,100)\n",
    "\n",
    "    turns = set_difficulty()\n",
    "\n",
    "    guess = 0\n",
    "    while guess != answer:\n",
    "\n",
    "        print(f\"You have {turns} attempts remaining to guess the number.\")\n",
    "\n",
    "        guess = int(input(\"Make a guess: \"))\n",
    "        turns = check_answer(guess, answer, turns)\n",
    "\n",
    "        if turns == 0:\n",
    "            print(\"You run out of turns. You lose.\")\n",
    "            return\n",
    "        elif guess != answer:\n",
    "            print(\"Guess again.\")\n",
    "\n",
    "game()\n"
   ]
  }
 ],
 "metadata": {
  "kernelspec": {
   "display_name": "Python 3",
   "language": "python",
   "name": "python3"
  },
  "language_info": {
   "codemirror_mode": {
    "name": "ipython",
    "version": 3
   },
   "file_extension": ".py",
   "mimetype": "text/x-python",
   "name": "python",
   "nbconvert_exporter": "python",
   "pygments_lexer": "ipython3",
   "version": "3.10.12"
  }
 },
 "nbformat": 4,
 "nbformat_minor": 2
}
