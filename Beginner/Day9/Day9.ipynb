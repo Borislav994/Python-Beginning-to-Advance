{
 "cells": [
  {
   "cell_type": "code",
   "execution_count": 7,
   "metadata": {},
   "outputs": [
    {
     "name": "stdout",
     "output_type": "stream",
     "text": [
      "An error in a program that prevents the program from running as expected.\n",
      "Bug\n",
      "Kada bube udju u kod\n",
      "Function\n",
      "A piece of code that you can easily call over and over again.\n",
      "Loop\n",
      "The action of doing something over and over again.\n",
      "{'Bug': 'Kada bube udju u kod', 'Function': 'A piece of code that you can easily call over and over again.', 'Loop': 'The action of doing something over and over again.'}\n"
     ]
    }
   ],
   "source": [
    "programming_dictionary = {\n",
    "    \"Bug\": \"An error in a program that prevents the program from running as expected.\", \n",
    "    \"Function\": \"A piece of code that you can easily call over and over again.\",\n",
    "}\n",
    "\n",
    "# retrieving items from dictionary\n",
    "print(programming_dictionary[\"Bug\"])\n",
    "\n",
    "# adding new items\n",
    "programming_dictionary[\"Loop\"] = \"The action of doing something over and over again.\"\n",
    "\n",
    "# empty\n",
    "empty_dictionary = {}\n",
    "\n",
    "# edit item in a dictionary\n",
    "programming_dictionary[\"Bug\"] = \"Kada bube udju u kod\"\n",
    "\n",
    "# loop\n",
    "for key in programming_dictionary:\n",
    "    print(key)\n",
    "    print(programming_dictionary[key])\n",
    "\n",
    "print(programming_dictionary)"
   ]
  },
  {
   "cell_type": "code",
   "execution_count": 8,
   "metadata": {},
   "outputs": [
    {
     "name": "stdout",
     "output_type": "stream",
     "text": [
      "{'Harry': 'Exceeds Expectations', 'Ron': 'Acceptable', 'Hermione': 'Outstanding', 'Draco': 'Acceptable', 'Neville': 'Fail'}\n"
     ]
    }
   ],
   "source": [
    "student_scores = {\n",
    "  \"Harry\": 81,\n",
    "  \"Ron\": 78,\n",
    "  \"Hermione\": 99, \n",
    "  \"Draco\": 74,\n",
    "  \"Neville\": 62,\n",
    "}\n",
    "\n",
    "student_grades = {}\n",
    "\n",
    "for student in student_scores:\n",
    "  score = student_scores[student]\n",
    "  if score > 90:\n",
    "    student_grades[student] = \"Outstanding\"\n",
    "  elif score > 80:\n",
    "    student_grades[student] = \"Exceeds Expectations\"\n",
    "  elif score > 70:\n",
    "    student_grades[student] = \"Acceptable\"\n",
    "  else:\n",
    "    student_grades[student] = \"Fail\"\n",
    "\n",
    "print(student_grades)"
   ]
  },
  {
   "cell_type": "code",
   "execution_count": null,
   "metadata": {},
   "outputs": [],
   "source": [
    "# nesting \n",
    "\n",
    "capitals = {\n",
    "    \"France\" : \"Paris\",\n",
    "    \"Germany\" : \"Berlin\"\n",
    "}\n",
    "\n",
    "travel_log = {\n",
    "    \"France\" : [\"Paris\", \"Lille\", \"Dijon\"],\n",
    "    \"Germany\" : [\"Berlin\", \"Hamburg\", \"Keln\"]\n",
    "}\n",
    "\n",
    "# nesting Dictionary in a dictionary\n",
    "travel_log = {\n",
    "    \"France\" : {\"cities_visited\" : [\"Paris\", \"Lille\", \"Dijon\"], \"Total_visits\" : 12},\n",
    "    \"Germany\" : {\"cities_visited\" : [\"Berlin\", \"Hamburg\", \"Keln\"], \"Total_visits\" : 5}\n",
    "}\n",
    "\n",
    "# nasting dictionary in a list\n",
    "travel_log = [\n",
    "    {\n",
    "      \"country\" : \"France\",\n",
    "      \"cities_visited\" : [\"Paris\", \"Lille\", \"Dijon\"], \n",
    "      \"Total_visits\" : 12\n",
    "    },\n",
    "    {\n",
    "     \"country\" : \"Germany\", \n",
    "     \"cities_visited\" : [\"Berlin\", \"Hamburg\", \"Keln\"], \n",
    "     \"Total_visits\" : 5\n",
    "    }\n",
    "]"
   ]
  },
  {
   "cell_type": "code",
   "execution_count": 1,
   "metadata": {},
   "outputs": [
    {
     "name": "stdout",
     "output_type": "stream",
     "text": [
      "I've been to Italy 7 times.\n",
      "My favourite city was Venice.\n"
     ]
    }
   ],
   "source": [
    "country = \"Italy\"\n",
    "visits = 7\n",
    "list_of_cities = [\"Venice\", \"Rome\", \"Florence\"]\n",
    "\n",
    "travel_log = [\n",
    "  {\n",
    "    \"country\": \"France\",\n",
    "    \"visits\": 12,\n",
    "    \"cities\": [\"Paris\", \"Lille\", \"Dijon\"]\n",
    "  },\n",
    "  {\n",
    "    \"country\": \"Germany\",\n",
    "    \"visits\": 5,\n",
    "    \"cities\": [\"Berlin\", \"Hamburg\", \"Stuttgart\"]\n",
    "  },\n",
    "]\n",
    "\n",
    "def add_new_country(name, times_visited, cities_visited):\n",
    "  new_country = {}\n",
    "  new_country[\"country\"] = name\n",
    "  new_country[\"visits\"] = times_visited\n",
    "  new_country[\"cities\"] = cities_visited\n",
    "  travel_log.append(new_country)\n",
    "\n",
    "add_new_country(country, visits, list_of_cities)\n",
    "print(f\"I've been to {travel_log[2]['country']} {travel_log[2]['visits']} times.\")\n",
    "print(f\"My favourite city was {travel_log[2]['cities'][0]}.\")"
   ]
  },
  {
   "cell_type": "code",
   "execution_count": 4,
   "metadata": {},
   "outputs": [
    {
     "name": "stdout",
     "output_type": "stream",
     "text": [
      "\n",
      "                         ___________\n",
      "                         \\         /\n",
      "                          )_______(\n",
      "                          |\"\"\"\"\"\"\"|_.-._,.---------.,_.-._\n",
      "                          |       | | |               | | ''-.\n",
      "                          |       |_| |_             _| |_..-'\n",
      "                          |_______| '-' `'---------'` '-'\n",
      "                          )\"\"\"\"\"\"\"(\n",
      "                         /_________\\\n",
      "                       .-------------.\n",
      "                      /_______________\\\n",
      "\n",
      "WELCOME TO THE SECRET AUCTION PROGRAM!\n",
      "The winner is Bora with a bid of $234\n"
     ]
    }
   ],
   "source": [
    "logo = '''\n",
    "                         ___________\n",
    "                         \\         /\n",
    "                          )_______(\n",
    "                          |\"\"\"\"\"\"\"|_.-._,.---------.,_.-._\n",
    "                          |       | | |               | | ''-.\n",
    "                          |       |_| |_             _| |_..-'\n",
    "                          |_______| '-' `'---------'` '-'\n",
    "                          )\"\"\"\"\"\"\"(\n",
    "                         /_________\\\\\n",
    "                       .-------------.\n",
    "                      /_______________\\\\\n",
    "'''\n",
    "print(logo)\n",
    "print(\"WELCOME TO THE SECRET AUCTION PROGRAM!\")\n",
    "\n",
    "bids = {}\n",
    "bidding_finished = False\n",
    "\n",
    "def find_highest_bidder(bidding_record):\n",
    "  highest_bid = 0\n",
    "  for bidder in bidding_record:\n",
    "    bid_amount = bidding_record[bidder]\n",
    "    if bid_amount > highest_bid:\n",
    "      highest_bid = bid_amount\n",
    "      winner = bidder\n",
    "  print(f\"The winner is {winner} with a bid of ${highest_bid}\")\n",
    "\n",
    "while not bidding_finished:\n",
    "  name = input(\"What is your name?: \")\n",
    "  price = int(input(\"What is your bid?: $\"))\n",
    "  bids[name] = price\n",
    "\n",
    "  should_continue = input(\"Are there any other bidders? Type 'yes' or 'no'.\")\n",
    "  if should_continue == \"no\":\n",
    "    bidding_finished = True\n",
    "    find_highest_bidder(bids)\n",
    "  elif should_continue == \"yes\":\n",
    "     print(\"Clear()\")\n",
    "\n",
    "\n"
   ]
  }
 ],
 "metadata": {
  "kernelspec": {
   "display_name": "Python 3",
   "language": "python",
   "name": "python3"
  },
  "language_info": {
   "codemirror_mode": {
    "name": "ipython",
    "version": 3
   },
   "file_extension": ".py",
   "mimetype": "text/x-python",
   "name": "python",
   "nbconvert_exporter": "python",
   "pygments_lexer": "ipython3",
   "version": "3.10.12"
  }
 },
 "nbformat": 4,
 "nbformat_minor": 2
}
