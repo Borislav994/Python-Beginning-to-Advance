{
 "cells": [
  {
   "cell_type": "code",
   "execution_count": 5,
   "metadata": {},
   "outputs": [
    {
     "data": {
      "text/plain": [
       "'You dont provide valid inputs'"
      ]
     },
     "execution_count": 5,
     "metadata": {},
     "output_type": "execute_result"
    }
   ],
   "source": [
    "# function title() svaku rec u stringu cini da prvo slovo bude veliko\n",
    "\n",
    "def format_name(first_name, last_name):\n",
    "    if first_name == \"\" or last_name == \"\":\n",
    "        return \"You dont provide valid inputs\"\n",
    "    return f\"first name: {first_name} and last name : {last_name}\".title()\n",
    "\n",
    "format_name(input(\"Whats your first name?\"), input(\"Whats your last name?\"))"
   ]
  },
  {
   "cell_type": "code",
   "execution_count": 6,
   "metadata": {},
   "outputs": [
    {
     "name": "stdout",
     "output_type": "stream",
     "text": [
      "29\n"
     ]
    }
   ],
   "source": [
    "def is_leap(year):\n",
    "  if year % 4 == 0:\n",
    "    if year % 100 == 0:\n",
    "      if year % 400 == 0:\n",
    "        return True\n",
    "      else:\n",
    "        return False\n",
    "    else:\n",
    "      return True\n",
    "  else:\n",
    "    return False\n",
    "  \n",
    "\n",
    "def days_in_month(year, month):\n",
    "  month_days = [31, 28, 31, 30, 31, 30, 31, 31, 30, 31, 30, 31] \n",
    "  if month == 2 and is_leap(year):\n",
    "    return 29\n",
    "  else:\n",
    "    return month_days[month - 1] \n",
    "  \n",
    "\n",
    "year = int(input(\"Enter a year\")) \n",
    "month = int(input(\"Enter a month\")) \n",
    "days = days_in_month(year, month)\n",
    "print(days)\n"
   ]
  },
  {
   "cell_type": "code",
   "execution_count": 7,
   "metadata": {},
   "outputs": [
    {
     "name": "stdout",
     "output_type": "stream",
     "text": [
      "opis firme.\n"
     ]
    }
   ],
   "source": [
    "# docstrings -> pisemo dokumentaciju za na primer funkciju i kada nam izbaci ID funkciju pisace opis za nju u nekom prozor.\n",
    "\n",
    "def opis():\n",
    "    \"\"\"This function is provide some description of company\"\"\"\n",
    "    print(\"opis firme.\")\n",
    "\n",
    "opis()"
   ]
  },
  {
   "cell_type": "code",
   "execution_count": 13,
   "metadata": {},
   "outputs": [
    {
     "name": "stdout",
     "output_type": "stream",
     "text": [
      "\n",
      " _____________________\n",
      "|  _________________  |\n",
      "| | Pythonista   0. | |  .----------------.  .----------------.  .----------------.  .----------------. \n",
      "| |_________________| | | .--------------. || .--------------. || .--------------. || .--------------. |\n",
      "|  ___ ___ ___   ___  | | |     ______   | || |      __      | || |   _____      | || |     ______   | |\n",
      "| | 7 | 8 | 9 | | + | | | |   .' ___  |  | || |     /  \\     | || |  |_   _|     | || |   .' ___  |  | |\n",
      "| |___|___|___| |___| | | |  / .'   \\_|  | || |    / /\\ \\    | || |    | |       | || |  / .'   \\_|  | |\n",
      "| | 4 | 5 | 6 | | - | | | |  | |         | || |   / ____ \\   | || |    | |   _   | || |  | |         | |\n",
      "| |___|___|___| |___| | | |  \\ `.___.'\\  | || | _/ /    \\ \\_ | || |   _| |__/ |  | || |  \\ `.___.'\\  | |\n",
      "| | 1 | 2 | 3 | | x | | | |   `._____.'  | || ||____|  |____|| || |  |________|  | || |   `._____.'  | |\n",
      "| |___|___|___| |___| | | |              | || |              | || |              | || |              | |\n",
      "| | . | 0 | = | | / | | | '--------------' || '--------------' || '--------------' || '--------------' |\n",
      "| |___|___|___| |___| |  '----------------'  '----------------'  '----------------'  '----------------' \n",
      "|_____________________|\n",
      "\n",
      "+\n",
      "-\n",
      "*\n",
      "/\n",
      "2.0 + 2.0 = 4.0\n",
      "4.0 - 2.0 = 2.0\n",
      "\n",
      " _____________________\n",
      "|  _________________  |\n",
      "| | Pythonista   0. | |  .----------------.  .----------------.  .----------------.  .----------------. \n",
      "| |_________________| | | .--------------. || .--------------. || .--------------. || .--------------. |\n",
      "|  ___ ___ ___   ___  | | |     ______   | || |      __      | || |   _____      | || |     ______   | |\n",
      "| | 7 | 8 | 9 | | + | | | |   .' ___  |  | || |     /  \\     | || |  |_   _|     | || |   .' ___  |  | |\n",
      "| |___|___|___| |___| | | |  / .'   \\_|  | || |    / /\\ \\    | || |    | |       | || |  / .'   \\_|  | |\n",
      "| | 4 | 5 | 6 | | - | | | |  | |         | || |   / ____ \\   | || |    | |   _   | || |  | |         | |\n",
      "| |___|___|___| |___| | | |  \\ `.___.'\\  | || | _/ /    \\ \\_ | || |   _| |__/ |  | || |  \\ `.___.'\\  | |\n",
      "| | 1 | 2 | 3 | | x | | | |   `._____.'  | || ||____|  |____|| || |  |________|  | || |   `._____.'  | |\n",
      "| |___|___|___| |___| | | |              | || |              | || |              | || |              | |\n",
      "| | . | 0 | = | | / | | | '--------------' || '--------------' || '--------------' || '--------------' |\n",
      "| |___|___|___| |___| |  '----------------'  '----------------'  '----------------'  '----------------' \n",
      "|_____________________|\n",
      "\n",
      "+\n",
      "-\n",
      "*\n",
      "/\n",
      "2.0 + 2.0 = 4.0\n",
      "End of operations\n"
     ]
    }
   ],
   "source": [
    "# Calculator\n",
    "\n",
    "logo = \"\"\"\n",
    " _____________________\n",
    "|  _________________  |\n",
    "| | Pythonista   0. | |  .----------------.  .----------------.  .----------------.  .----------------. \n",
    "| |_________________| | | .--------------. || .--------------. || .--------------. || .--------------. |\n",
    "|  ___ ___ ___   ___  | | |     ______   | || |      __      | || |   _____      | || |     ______   | |\n",
    "| | 7 | 8 | 9 | | + | | | |   .' ___  |  | || |     /  \\     | || |  |_   _|     | || |   .' ___  |  | |\n",
    "| |___|___|___| |___| | | |  / .'   \\_|  | || |    / /\\ \\    | || |    | |       | || |  / .'   \\_|  | |\n",
    "| | 4 | 5 | 6 | | - | | | |  | |         | || |   / ____ \\   | || |    | |   _   | || |  | |         | |\n",
    "| |___|___|___| |___| | | |  \\ `.___.'\\  | || | _/ /    \\ \\_ | || |   _| |__/ |  | || |  \\ `.___.'\\  | |\n",
    "| | 1 | 2 | 3 | | x | | | |   `._____.'  | || ||____|  |____|| || |  |________|  | || |   `._____.'  | |\n",
    "| |___|___|___| |___| | | |              | || |              | || |              | || |              | |\n",
    "| | . | 0 | = | | / | | | '--------------' || '--------------' || '--------------' || '--------------' |\n",
    "| |___|___|___| |___| |  '----------------'  '----------------'  '----------------'  '----------------' \n",
    "|_____________________|\n",
    "\"\"\"\n",
    "\n",
    "def add(n1, n2):\n",
    "  return n1 + n2\n",
    "\n",
    "def subtract(n1, n2):\n",
    "  return n1 - n2\n",
    "\n",
    "def multiply(n1, n2):\n",
    "  return n1 * n2\n",
    "\n",
    "def divide(n1, n2):\n",
    "  return n1 / n2\n",
    "\n",
    "# ovde je vrednost funkcija a ne samo naziv\n",
    "operations = {\n",
    "  \"+\": add,\n",
    "  \"-\": subtract,\n",
    "  \"*\": multiply,\n",
    "  \"/\": divide\n",
    "}\n",
    "\n",
    "def calculator():\n",
    "  print(logo)\n",
    "\n",
    "  num1 = float(input(\"What's the first number?: \"))\n",
    "  for symbol in operations:\n",
    "    print(symbol)\n",
    "  should_continue = True\n",
    " \n",
    "  while should_continue:\n",
    "    operation_symbol = input(\"Pick an operation: \")\n",
    "    num2 = float(input(\"What's the next number?: \"))\n",
    "    calculation_function = operations[operation_symbol]\n",
    "    answer = calculation_function(num1, num2)\n",
    "    print(f\"{num1} {operation_symbol} {num2} = {answer}\")\n",
    "\n",
    "    q = input(f\"Type 'y' to continue calculating with {answer}, or type 'n' to start a new calculation or type 'exit' to exit: \")\n",
    "\n",
    "    if q == 'y':\n",
    "      num1 = answer\n",
    "    elif q == 'n':\n",
    "      should_continue = False\n",
    "      calculator()\n",
    "    elif q == 'exit':\n",
    "      should_continue = False\n",
    "      print(\"End of operations\")\n",
    "\n",
    "calculator()\n",
    "\n",
    "\n",
    "  "
   ]
  }
 ],
 "metadata": {
  "kernelspec": {
   "display_name": "Python 3",
   "language": "python",
   "name": "python3"
  },
  "language_info": {
   "codemirror_mode": {
    "name": "ipython",
    "version": 3
   },
   "file_extension": ".py",
   "mimetype": "text/x-python",
   "name": "python",
   "nbconvert_exporter": "python",
   "pygments_lexer": "ipython3",
   "version": "3.10.12"
  }
 },
 "nbformat": 4,
 "nbformat_minor": 2
}
