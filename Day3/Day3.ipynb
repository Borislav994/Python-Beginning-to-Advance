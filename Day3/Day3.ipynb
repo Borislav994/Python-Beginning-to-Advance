{
 "cells": [
  {
   "cell_type": "code",
   "execution_count": 5,
   "metadata": {},
   "outputs": [
    {
     "name": "stdout",
     "output_type": "stream",
     "text": [
      "This is an odd number.\n"
     ]
    }
   ],
   "source": [
    "number = int(input(\"Type number for check: \"))\n",
    "if number % 2 == 0:\n",
    "  print(\"This is an even number.\")\n",
    "else:\n",
    "  print(\"This is an odd number.\")"
   ]
  },
  {
   "cell_type": "code",
   "execution_count": 9,
   "metadata": {},
   "outputs": [
    {
     "name": "stdout",
     "output_type": "stream",
     "text": [
      "Leap year\n"
     ]
    }
   ],
   "source": [
    "# leap or not year check\n",
    "year = int(input(\"Input a year to check:\"))\n",
    "if year % 4 != 0:\n",
    " print(\"Not leap year\")\n",
    "elif year % 100 != 0:\n",
    "    print(\"Leap year\")\n",
    "elif year % 400 == 0:\n",
    "    print(\"Leap year\")\n",
    "else:\n",
    "    print(\"Not leap year\")"
   ]
  },
  {
   "cell_type": "code",
   "execution_count": 12,
   "metadata": {},
   "outputs": [
    {
     "name": "stdout",
     "output_type": "stream",
     "text": [
      "Your BMI is 22.857142857142858, you have a normal weight.\n"
     ]
    }
   ],
   "source": [
    "# BMI calculator\n",
    "height = float(input())\n",
    "weight = int(input())\n",
    "\n",
    "bmi = weight / (height ** 2)\n",
    "if bmi < 18.5:\n",
    "  print(f\"Your BMI is {bmi}, you are underweight.\")\n",
    "elif bmi < 25:\n",
    "  print(f\"Your BMI is {bmi}, you have a normal weight.\")\n",
    "elif bmi < 30:\n",
    "  print(f\"Your BMI is {bmi}, you are slightly overweight.\")\n",
    "elif bmi < 35:\n",
    " print(f\"Your BMI is {bmi}, you are obese.\")\n",
    "else:\n",
    "  print(f\"Your BMI is {bmi}, you are clinically obese.\")"
   ]
  },
  {
   "cell_type": "code",
   "execution_count": 16,
   "metadata": {},
   "outputs": [
    {
     "name": "stdout",
     "output_type": "stream",
     "text": [
      "Welcome to the rollercoaster!\n",
      "You can ride the rollercoaster.\n",
      "Adult ticket are 12\n",
      "Your final bill is 15\n"
     ]
    }
   ],
   "source": [
    "print(\"Welcome to the rollercoaster!\")\n",
    "height = int(input(\"What is your height in cm? \"))\n",
    "bill = 0\n",
    "\n",
    "if height >= 120:\n",
    "    print(\"You can ride the rollercoaster.\")\n",
    "    age = int(input(\"What is your age? \"))\n",
    "    if age < 12:\n",
    "        bill = 5\n",
    "        print(f\"Child ticket are {bill}\")\n",
    "    elif age <= 18:\n",
    "        bill = 7\n",
    "        print(f\"Your ticket are {bill}\")\n",
    "    else:\n",
    "        bill = 12\n",
    "        print(f\"Adult ticket are {bill}\")\n",
    "    \n",
    "    photo = input(\"Do you want a photo taken? Y or N\")\n",
    "    if photo == \"Y\":\n",
    "        bill += 3\n",
    "    print(f\"Your final bill is {bill}\")\n",
    "\n",
    "else:\n",
    "    print(\"Sorry, you jave to grow taller before you can ride.\")"
   ]
  },
  {
   "cell_type": "code",
   "execution_count": 22,
   "metadata": {},
   "outputs": [
    {
     "name": "stdout",
     "output_type": "stream",
     "text": [
      "Thank you for choosing Python Pizza Deliveries!\n",
      "Thank you for choosing Python Pizza Deliveries! Your final bill is: $ 29\n"
     ]
    }
   ],
   "source": [
    "print(\"Thank you for choosing Python Pizza Deliveries!\")\n",
    "size = input(\"What size pizza do you want? S, M, or L\")\n",
    "add_pepperoni = input(\"Do you want pepperoni? Y or N\")\n",
    "extra_cheese = input(\"Do you want extra cheese? Y or N\") \n",
    "# 🚨 Don't change the code above 👆\n",
    "# Write your code below this line 👇\n",
    "price = 0\n",
    "if size == \"S\":\n",
    "  price = 15\n",
    "  if add_pepperoni == \"Y\":\n",
    "    price += 2\n",
    "  if extra_cheese == \"Y\":\n",
    "    price += 1\n",
    "  print(f\"Your final bill is: ${price}.\")\n",
    "elif size == \"M\":\n",
    "  price = 20\n",
    "  if add_pepperoni == \"Y\":\n",
    "    price += 3\n",
    "  if extra_cheese == \"Y\":\n",
    "    price += 1\n",
    "  print(f\"Your final bill is: ${price}.\")\n",
    "elif size == \"L\":\n",
    "  price = 25\n",
    "  if add_pepperoni == \"Y\":\n",
    "    price += 3\n",
    "  if extra_cheese == \"Y\":\n",
    "    price += 1\n",
    "  print(f\"Your final bill is: ${price}.\")"
   ]
  }
 ],
 "metadata": {
  "kernelspec": {
   "display_name": "Python 3",
   "language": "python",
   "name": "python3"
  },
  "language_info": {
   "codemirror_mode": {
    "name": "ipython",
    "version": 3
   },
   "file_extension": ".py",
   "mimetype": "text/x-python",
   "name": "python",
   "nbconvert_exporter": "python",
   "pygments_lexer": "ipython3",
   "version": "3.10.12"
  }
 },
 "nbformat": 4,
 "nbformat_minor": 2
}
